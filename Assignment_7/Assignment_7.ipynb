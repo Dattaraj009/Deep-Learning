{
 "cells": [
  {
   "cell_type": "code",
   "execution_count": 2,
   "id": "207b6c94",
   "metadata": {},
   "outputs": [
    {
     "name": "stdout",
     "output_type": "stream",
     "text": [
      "Creating new Ultralytics Settings v0.0.6 file  \n",
      "View Ultralytics Settings with 'yolo settings' or at 'C:\\Users\\Dattaraj\\AppData\\Roaming\\Ultralytics\\settings.json'\n",
      "Update Settings with 'yolo settings key=value', i.e. 'yolo settings runs_dir=path/to/dir'. For help see https://docs.ultralytics.com/quickstart/#ultralytics-settings.\n"
     ]
    }
   ],
   "source": [
    "import cv2\n",
    "import matplotlib.pyplot as plt\n",
    "from ultralytics import YOLO\n"
   ]
  },
  {
   "cell_type": "code",
   "execution_count": 3,
   "id": "ece3ff8c",
   "metadata": {},
   "outputs": [
    {
     "name": "stdout",
     "output_type": "stream",
     "text": [
      "\u001b[KDownloading https://github.com/ultralytics/assets/releases/download/v8.3.0/yolov8n.pt to 'yolov8n.pt': 100% ━━━━━━━━━━━━ 6.2MB 12.8MB/s 0.5s.4s<0.1s6s.0s\n"
     ]
    }
   ],
   "source": [
    "# Load pretrained YOLOv8 model (choose nano/small/medium/large depending on speed vs accuracy)\n",
    "model = YOLO(\"yolov8n.pt\")   # 'n' = nano (fastest, lightweight)\n"
   ]
  },
  {
   "cell_type": "code",
   "execution_count": 7,
   "id": "c09e4ee8",
   "metadata": {},
   "outputs": [
    {
     "name": "stdout",
     "output_type": "stream",
     "text": [
      "\n",
      "image 1/1 C:\\Users\\Dattaraj\\Downloads\\cat.jpg: 448x640 1 cat, 96.7ms\n",
      "Speed: 7.8ms preprocess, 96.7ms inference, 2.6ms postprocess per image at shape (1, 3, 448, 640)\n"
     ]
    }
   ],
   "source": [
    "# Corrected path\n",
    "img_path = r\"C:\\Users\\Dattaraj\\Downloads\\cat.jpg\"\n",
    "\n",
    "# Run detection\n",
    "results = model(img_path)\n",
    "\n",
    "# Show detection\n",
    "results[0].show()\n"
   ]
  },
  {
   "cell_type": "code",
   "execution_count": 10,
   "id": "55b5f23d",
   "metadata": {},
   "outputs": [
    {
     "name": "stdout",
     "output_type": "stream",
     "text": [
      "✅ Detection done! Output saved as 'cat_detected_0.jpg'\n"
     ]
    }
   ],
   "source": [
    "for i, result in enumerate(results):\n",
    "    # Save image with bounding boxes\n",
    "    result.save(filename=f\"cat_detected_{i}.jpg\")\n",
    "\n",
    "print(\"✅ Detection done! Output saved as 'cat_detected_0.jpg'\")"
   ]
  },
  {
   "cell_type": "code",
   "execution_count": null,
   "id": "94ea5b53",
   "metadata": {},
   "outputs": [
    {
     "name": "stdout",
     "output_type": "stream",
     "text": [
      "Class: cat, Confidence: 0.79, BBox: [     253.19      36.569      488.02      330.35]\n",
      "✅ Detection done! Output saved as 'cat_detected_0.jpg'\n"
     ]
    },
    {
     "ename": "",
     "evalue": "",
     "output_type": "error",
     "traceback": [
      "\u001b[1;31mThe Kernel crashed while executing code in the current cell or a previous cell. \n",
      "\u001b[1;31mPlease review the code in the cell(s) to identify a possible cause of the failure. \n",
      "\u001b[1;31mClick <a href='https://aka.ms/vscodeJupyterKernelCrash'>here</a> for more info. \n",
      "\u001b[1;31mView Jupyter <a href='command:jupyter.viewOutput'>log</a> for further details."
     ]
    }
   ],
   "source": [
    "# Get details: bounding boxes, confidence, class id\n",
    "boxes = result.boxes.xyxy.cpu().numpy()   # [x1, y1, x2, y2]\n",
    "confs = result.boxes.conf.cpu().numpy()   # confidence scores\n",
    "clss = result.boxes.cls.cpu().numpy()     # class IDs\n",
    "\n",
    "for box, conf, cls in zip(boxes, confs, clss):\n",
    "    class_name = model.names[int(cls)]   # Convert class ID to name\n",
    "    print(f\"Class: {class_name}, Confidence: {conf:.2f}, BBox: {box}\")\n",
    "\n",
    "print(\"✅ Detection done! Output saved as 'cat_detected_0.jpg'\")"
   ]
  }
 ],
 "metadata": {
  "kernelspec": {
   "display_name": ".venv",
   "language": "python",
   "name": "python3"
  },
  "language_info": {
   "codemirror_mode": {
    "name": "ipython",
    "version": 3
   },
   "file_extension": ".py",
   "mimetype": "text/x-python",
   "name": "python",
   "nbconvert_exporter": "python",
   "pygments_lexer": "ipython3",
   "version": "3.13.1"
  }
 },
 "nbformat": 4,
 "nbformat_minor": 5
}
